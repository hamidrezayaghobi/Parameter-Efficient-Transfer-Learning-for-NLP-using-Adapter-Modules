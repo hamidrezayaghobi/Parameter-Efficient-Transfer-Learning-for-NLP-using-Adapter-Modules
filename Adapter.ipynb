{
  "cells": [
    {
      "cell_type": "markdown",
      "metadata": {
        "id": "13BKPszcTTFk"
      },
      "source": [
        "Name: Hamidreza Yaghoubi Araghi\n",
        "\n",
        "Student ID: 98109786"
      ]
    },
    {
      "cell_type": "code",
      "execution_count": null,
      "metadata": {
        "colab": {
          "base_uri": "https://localhost:8080/"
        },
        "id": "ijFwBqnyC644",
        "outputId": "15dc571f-93f0-402b-f263-c99e0a23a69b"
      },
      "outputs": [
        {
          "name": "stdout",
          "output_type": "stream",
          "text": [
            "Mounted at /content/drive\n"
          ]
        }
      ],
      "source": [
        "from google.colab import drive\n",
        "drive.mount('/content/drive')"
      ]
    },
    {
      "cell_type": "code",
      "execution_count": null,
      "metadata": {
        "colab": {
          "base_uri": "https://localhost:8080/"
        },
        "id": "tLeeICALC9ZP",
        "outputId": "0e566657-09af-4442-a534-0d49741a0170"
      },
      "outputs": [
        {
          "name": "stdout",
          "output_type": "stream",
          "text": [
            "/content/drive/MyDrive/Colab Notebooks/Deep Learning/Home Works/HW03\n"
          ]
        }
      ],
      "source": [
        "cd /content/drive/MyDrive/Colab\\ Notebooks/Deep\\ Learning/Home\\ Works/HW03/"
      ]
    },
    {
      "cell_type": "code",
      "execution_count": null,
      "metadata": {
        "colab": {
          "base_uri": "https://localhost:8080/"
        },
        "id": "nrNZ4iRyUH2L",
        "outputId": "aa29d581-5ecb-4504-f50e-76b1e4088d64"
      },
      "outputs": [
        {
          "name": "stdout",
          "output_type": "stream",
          "text": [
            "/content/drive/MyDrive/Colab Notebooks/Deep Learning/Home Works/HW03/transformers\n"
          ]
        }
      ],
      "source": [
        "cd transformers"
      ]
    },
    {
      "cell_type": "markdown",
      "metadata": {
        "id": "MpXOoCl4BR9r"
      },
      "source": [
        "# Clone Transformer"
      ]
    },
    {
      "cell_type": "code",
      "execution_count": null,
      "metadata": {
        "colab": {
          "base_uri": "https://localhost:8080/"
        },
        "id": "feHllsIHBsmW",
        "outputId": "cba387d2-14c9-417d-b913-4a92336ab3d4"
      },
      "outputs": [
        {
          "name": "stdout",
          "output_type": "stream",
          "text": [
            "Cloning into 'transformers'...\n",
            "remote: Enumerating objects: 139197, done.\u001b[K\n",
            "remote: Counting objects: 100% (1189/1189), done.\u001b[K\n",
            "remote: Compressing objects: 100% (476/476), done.\u001b[K\n",
            "remote: Total 139197 (delta 742), reused 987 (delta 614), pack-reused 138008\u001b[K\n",
            "Receiving objects: 100% (139197/139197), 137.54 MiB | 11.27 MiB/s, done.\n",
            "Resolving deltas: 100% (104207/104207), done.\n",
            "Updating files: 100% (3245/3245), done.\n"
          ]
        }
      ],
      "source": [
        "!git clone https://github.com/huggingface/transformers.git"
      ]
    },
    {
      "cell_type": "markdown",
      "metadata": {
        "id": "QlAzLSxMDPwD"
      },
      "source": []
    },
    {
      "cell_type": "markdown",
      "metadata": {
        "id": "-ANKyOAEOh1i"
      },
      "source": [
        "# Installation"
      ]
    },
    {
      "cell_type": "code",
      "execution_count": null,
      "metadata": {
        "colab": {
          "base_uri": "https://localhost:8080/"
        },
        "id": "br-9MdXIAYKn",
        "outputId": "6ca2a7c9-faca-469e-ee6c-f97b7451c2d1"
      },
      "outputs": [
        {
          "name": "stdout",
          "output_type": "stream",
          "text": [
            "Looking in indexes: https://pypi.org/simple, https://us-python.pkg.dev/colab-wheels/public/simple/\n",
            "Obtaining file:///content/drive/MyDrive/Colab%20Notebooks/Deep%20Learning/Home%20Works/HW03/transformers\n",
            "  Installing build dependencies ... \u001b[?25l\u001b[?25hdone\n",
            "  Checking if build backend supports build_editable ... \u001b[?25l\u001b[?25hdone\n",
            "  Getting requirements to build editable ... \u001b[?25l\u001b[?25hdone\n",
            "  Preparing editable metadata (pyproject.toml) ... \u001b[?25l\u001b[?25hdone\n",
            "Requirement already satisfied: packaging>=20.0 in /usr/local/lib/python3.10/dist-packages (from transformers==4.29.0.dev0) (23.1)\n",
            "Requirement already satisfied: requests in /usr/local/lib/python3.10/dist-packages (from transformers==4.29.0.dev0) (2.27.1)\n",
            "Collecting huggingface-hub<1.0,>=0.11.0\n",
            "  Downloading huggingface_hub-0.14.1-py3-none-any.whl (224 kB)\n",
            "\u001b[2K     \u001b[90m━━━━━━━━━━━━━━━━━━━━━━━━━━━━━━━━━━━━━━━\u001b[0m \u001b[32m224.5/224.5 kB\u001b[0m \u001b[31m9.8 MB/s\u001b[0m eta \u001b[36m0:00:00\u001b[0m\n",
            "\u001b[?25hRequirement already satisfied: tqdm>=4.27 in /usr/local/lib/python3.10/dist-packages (from transformers==4.29.0.dev0) (4.65.0)\n",
            "Requirement already satisfied: filelock in /usr/local/lib/python3.10/dist-packages (from transformers==4.29.0.dev0) (3.12.0)\n",
            "Requirement already satisfied: regex!=2019.12.17 in /usr/local/lib/python3.10/dist-packages (from transformers==4.29.0.dev0) (2022.10.31)\n",
            "Collecting tokenizers!=0.11.3,<0.14,>=0.11.1\n",
            "  Downloading tokenizers-0.13.3-cp310-cp310-manylinux_2_17_x86_64.manylinux2014_x86_64.whl (7.8 MB)\n",
            "\u001b[2K     \u001b[90m━━━━━━━━━━━━━━━━━━━━━━━━━━━━━━━━━━━━━━━━\u001b[0m \u001b[32m7.8/7.8 MB\u001b[0m \u001b[31m71.8 MB/s\u001b[0m eta \u001b[36m0:00:00\u001b[0m\n",
            "\u001b[?25hRequirement already satisfied: numpy>=1.17 in /usr/local/lib/python3.10/dist-packages (from transformers==4.29.0.dev0) (1.22.4)\n",
            "Requirement already satisfied: pyyaml>=5.1 in /usr/local/lib/python3.10/dist-packages (from transformers==4.29.0.dev0) (6.0)\n",
            "Requirement already satisfied: fsspec in /usr/local/lib/python3.10/dist-packages (from huggingface-hub<1.0,>=0.11.0->transformers==4.29.0.dev0) (2023.4.0)\n",
            "Requirement already satisfied: typing-extensions>=3.7.4.3 in /usr/local/lib/python3.10/dist-packages (from huggingface-hub<1.0,>=0.11.0->transformers==4.29.0.dev0) (4.5.0)\n",
            "Requirement already satisfied: charset-normalizer~=2.0.0 in /usr/local/lib/python3.10/dist-packages (from requests->transformers==4.29.0.dev0) (2.0.12)\n",
            "Requirement already satisfied: certifi>=2017.4.17 in /usr/local/lib/python3.10/dist-packages (from requests->transformers==4.29.0.dev0) (2022.12.7)\n",
            "Requirement already satisfied: urllib3<1.27,>=1.21.1 in /usr/local/lib/python3.10/dist-packages (from requests->transformers==4.29.0.dev0) (1.26.15)\n",
            "Requirement already satisfied: idna<4,>=2.5 in /usr/local/lib/python3.10/dist-packages (from requests->transformers==4.29.0.dev0) (3.4)\n",
            "Building wheels for collected packages: transformers\n",
            "  Building editable for transformers (pyproject.toml) ... \u001b[?25l\u001b[?25hdone\n",
            "  Created wheel for transformers: filename=transformers-4.29.0.dev0-0.editable-py3-none-any.whl size=36187 sha256=e3be590d6f4afed92061cef12c02bbfa2b8a2f62a7507e18f96d22f0ff178e55\n",
            "  Stored in directory: /tmp/pip-ephem-wheel-cache-3m63gg0v/wheels/0f/ec/f9/6b971bd2784748ac2364b375267a8397240278588a2fb69489\n",
            "Successfully built transformers\n",
            "Installing collected packages: tokenizers, huggingface-hub, transformers\n",
            "Successfully installed huggingface-hub-0.14.1 tokenizers-0.13.3 transformers-4.29.0.dev0\n",
            "Looking in indexes: https://pypi.org/simple, https://us-python.pkg.dev/colab-wheels/public/simple/\n",
            "Collecting datasets\n",
            "  Downloading datasets-2.12.0-py3-none-any.whl (474 kB)\n",
            "\u001b[2K     \u001b[90m━━━━━━━━━━━━━━━━━━━━━━━━━━━━━━━━━━━━━━\u001b[0m \u001b[32m474.6/474.6 kB\u001b[0m \u001b[31m20.2 MB/s\u001b[0m eta \u001b[36m0:00:00\u001b[0m\n",
            "\u001b[?25hRequirement already satisfied: fsspec[http]>=2021.11.1 in /usr/local/lib/python3.10/dist-packages (from datasets) (2023.4.0)\n",
            "Requirement already satisfied: pyarrow>=8.0.0 in /usr/local/lib/python3.10/dist-packages (from datasets) (9.0.0)\n",
            "Requirement already satisfied: pandas in /usr/local/lib/python3.10/dist-packages (from datasets) (1.5.3)\n",
            "Collecting responses<0.19\n",
            "  Downloading responses-0.18.0-py3-none-any.whl (38 kB)\n",
            "Collecting dill<0.3.7,>=0.3.0\n",
            "  Downloading dill-0.3.6-py3-none-any.whl (110 kB)\n",
            "\u001b[2K     \u001b[90m━━━━━━━━━━━━━━━━━━━━━━━━━━━━━━━━━━━━━━\u001b[0m \u001b[32m110.5/110.5 kB\u001b[0m \u001b[31m12.2 MB/s\u001b[0m eta \u001b[36m0:00:00\u001b[0m\n",
            "\u001b[?25hRequirement already satisfied: requests>=2.19.0 in /usr/local/lib/python3.10/dist-packages (from datasets) (2.27.1)\n",
            "Collecting multiprocess\n",
            "  Downloading multiprocess-0.70.14-py310-none-any.whl (134 kB)\n",
            "\u001b[2K     \u001b[90m━━━━━━━━━━━━━━━━━━━━━━━━━━━━━━━━━━━━━━\u001b[0m \u001b[32m134.3/134.3 kB\u001b[0m \u001b[31m16.9 MB/s\u001b[0m eta \u001b[36m0:00:00\u001b[0m\n",
            "\u001b[?25hRequirement already satisfied: huggingface-hub<1.0.0,>=0.11.0 in /usr/local/lib/python3.10/dist-packages (from datasets) (0.14.1)\n",
            "Requirement already satisfied: packaging in /usr/local/lib/python3.10/dist-packages (from datasets) (23.1)\n",
            "Collecting xxhash\n",
            "  Downloading xxhash-3.2.0-cp310-cp310-manylinux_2_17_x86_64.manylinux2014_x86_64.whl (212 kB)\n",
            "\u001b[2K     \u001b[90m━━━━━━━━━━━━━━━━━━━━━━━━━━━━━━━━━━━━━━\u001b[0m \u001b[32m212.5/212.5 kB\u001b[0m \u001b[31m24.1 MB/s\u001b[0m eta \u001b[36m0:00:00\u001b[0m\n",
            "\u001b[?25hCollecting aiohttp\n",
            "  Downloading aiohttp-3.8.4-cp310-cp310-manylinux_2_17_x86_64.manylinux2014_x86_64.whl (1.0 MB)\n",
            "\u001b[2K     \u001b[90m━━━━━━━━━━━━━━━━━━━━━━━━━━━━━━━━━━━━━━━━\u001b[0m \u001b[32m1.0/1.0 MB\u001b[0m \u001b[31m51.7 MB/s\u001b[0m eta \u001b[36m0:00:00\u001b[0m\n",
            "\u001b[?25hRequirement already satisfied: numpy>=1.17 in /usr/local/lib/python3.10/dist-packages (from datasets) (1.22.4)\n",
            "Requirement already satisfied: tqdm>=4.62.1 in /usr/local/lib/python3.10/dist-packages (from datasets) (4.65.0)\n",
            "Requirement already satisfied: pyyaml>=5.1 in /usr/local/lib/python3.10/dist-packages (from datasets) (6.0)\n",
            "Collecting async-timeout<5.0,>=4.0.0a3\n",
            "  Downloading async_timeout-4.0.2-py3-none-any.whl (5.8 kB)\n",
            "Collecting multidict<7.0,>=4.5\n",
            "  Downloading multidict-6.0.4-cp310-cp310-manylinux_2_17_x86_64.manylinux2014_x86_64.whl (114 kB)\n",
            "\u001b[2K     \u001b[90m━━━━━━━━━━━━━━━━━━━━━━━━━━━━━━━━━━━━━━\u001b[0m \u001b[32m114.5/114.5 kB\u001b[0m \u001b[31m13.3 MB/s\u001b[0m eta \u001b[36m0:00:00\u001b[0m\n",
            "\u001b[?25hCollecting yarl<2.0,>=1.0\n",
            "  Downloading yarl-1.9.2-cp310-cp310-manylinux_2_17_x86_64.manylinux2014_x86_64.whl (268 kB)\n",
            "\u001b[2K     \u001b[90m━━━━━━━━━━━━━━━━━━━━━━━━━━━━━━━━━━━━━━\u001b[0m \u001b[32m268.8/268.8 kB\u001b[0m \u001b[31m26.7 MB/s\u001b[0m eta \u001b[36m0:00:00\u001b[0m\n",
            "\u001b[?25hRequirement already satisfied: attrs>=17.3.0 in /usr/local/lib/python3.10/dist-packages (from aiohttp->datasets) (23.1.0)\n",
            "Collecting frozenlist>=1.1.1\n",
            "  Downloading frozenlist-1.3.3-cp310-cp310-manylinux_2_5_x86_64.manylinux1_x86_64.manylinux_2_17_x86_64.manylinux2014_x86_64.whl (149 kB)\n",
            "\u001b[2K     \u001b[90m━━━━━━━━━━━━━━━━━━━━━━━━━━━━━━━━━━━━━━\u001b[0m \u001b[32m149.6/149.6 kB\u001b[0m \u001b[31m18.0 MB/s\u001b[0m eta \u001b[36m0:00:00\u001b[0m\n",
            "\u001b[?25hCollecting aiosignal>=1.1.2\n",
            "  Downloading aiosignal-1.3.1-py3-none-any.whl (7.6 kB)\n",
            "Requirement already satisfied: charset-normalizer<4.0,>=2.0 in /usr/local/lib/python3.10/dist-packages (from aiohttp->datasets) (2.0.12)\n",
            "Requirement already satisfied: typing-extensions>=3.7.4.3 in /usr/local/lib/python3.10/dist-packages (from huggingface-hub<1.0.0,>=0.11.0->datasets) (4.5.0)\n",
            "Requirement already satisfied: filelock in /usr/local/lib/python3.10/dist-packages (from huggingface-hub<1.0.0,>=0.11.0->datasets) (3.12.0)\n",
            "Requirement already satisfied: certifi>=2017.4.17 in /usr/local/lib/python3.10/dist-packages (from requests>=2.19.0->datasets) (2022.12.7)\n",
            "Requirement already satisfied: urllib3<1.27,>=1.21.1 in /usr/local/lib/python3.10/dist-packages (from requests>=2.19.0->datasets) (1.26.15)\n",
            "Requirement already satisfied: idna<4,>=2.5 in /usr/local/lib/python3.10/dist-packages (from requests>=2.19.0->datasets) (3.4)\n",
            "Requirement already satisfied: python-dateutil>=2.8.1 in /usr/local/lib/python3.10/dist-packages (from pandas->datasets) (2.8.2)\n",
            "Requirement already satisfied: pytz>=2020.1 in /usr/local/lib/python3.10/dist-packages (from pandas->datasets) (2022.7.1)\n",
            "Requirement already satisfied: six>=1.5 in /usr/local/lib/python3.10/dist-packages (from python-dateutil>=2.8.1->pandas->datasets) (1.16.0)\n",
            "Installing collected packages: xxhash, multidict, frozenlist, dill, async-timeout, yarl, responses, multiprocess, aiosignal, aiohttp, datasets\n",
            "Successfully installed aiohttp-3.8.4 aiosignal-1.3.1 async-timeout-4.0.2 datasets-2.12.0 dill-0.3.6 frozenlist-1.3.3 multidict-6.0.4 multiprocess-0.70.14 responses-0.18.0 xxhash-3.2.0 yarl-1.9.2\n"
          ]
        }
      ],
      "source": [
        "!pip install -e transformers\n",
        "!pip install datasets"
      ]
    },
    {
      "cell_type": "markdown",
      "metadata": {
        "id": "KzTucASNTeuh"
      },
      "source": [
        "# Download Dataset"
      ]
    },
    {
      "cell_type": "code",
      "execution_count": null,
      "metadata": {
        "colab": {
          "base_uri": "https://localhost:8080/"
        },
        "id": "PnNrKUpxO4vW",
        "outputId": "538abc28-313f-4c9b-cf42-cd9f82bb21e6"
      },
      "outputs": [
        {
          "name": "stdout",
          "output_type": "stream",
          "text": [
            "--2023-05-04 10:10:09--  https://ai.stanford.edu/~amaas/data/sentiment/aclImdb_v1.tar.gz\n",
            "Resolving ai.stanford.edu (ai.stanford.edu)... 171.64.68.10\n",
            "Connecting to ai.stanford.edu (ai.stanford.edu)|171.64.68.10|:443... connected.\n",
            "HTTP request sent, awaiting response... 200 OK\n",
            "Length: 84125825 (80M) [application/x-gzip]\n",
            "Saving to: ‘aclImdb_v1.tar.gz’\n",
            "\n",
            "aclImdb_v1.tar.gz   100%[===================>]  80.23M  24.8MB/s    in 5.0s    \n",
            "\n",
            "2023-05-04 10:10:15 (16.0 MB/s) - ‘aclImdb_v1.tar.gz’ saved [84125825/84125825]\n",
            "\n"
          ]
        }
      ],
      "source": [
        "# !wget https://ai.stanford.edu/~amaas/data/sentiment/aclImdb_v1.tar.gz\n",
        "# !tar -xvzf aclImdb_v1.tar.gz"
      ]
    },
    {
      "cell_type": "markdown",
      "metadata": {
        "id": "SIc1iBXuP5w0"
      },
      "source": [
        "# Prepare DataSet"
      ]
    },
    {
      "cell_type": "code",
      "execution_count": null,
      "metadata": {
        "colab": {
          "base_uri": "https://localhost:8080/",
          "referenced_widgets": [
            "f557fae8a65a49cda9133cb55b5a2be0",
            "0135b2546ae74319ad8f27bb632f2568",
            "f7b03d6aaff445f38b57f93b86fb088c",
            "f4fbeab89ade4dfeb29fc9d07e06fd44",
            "ac47e8efb12c489795b5888b2597dfea",
            "fbd62de49ca941f4be8884fbf52ff3c2",
            "18b1ddfeb40b45f0ac6a0e7c02f6cb28",
            "8542c5053e114a1c8df0067c47771acf",
            "fa96125639f7416bacd3c9cd5e542c20",
            "a0583ed983274bd6ad8a400cd2ca3771",
            "b5667c572b4a46fa814f8073a38d9029"
          ]
        },
        "id": "s-dj-o5QSB6r",
        "outputId": "bc85fff0-3297-47c5-b89e-22114e0a2bbb"
      },
      "outputs": [
        {
          "name": "stderr",
          "output_type": "stream",
          "text": [
            "WARNING:datasets.builder:Found cached dataset imdb (/root/.cache/huggingface/datasets/imdb/plain_text/1.0.0/d613c88cf8fa3bab83b4ded3713f1f74830d1100e171db75bbddb80b3345c9c0)\n"
          ]
        },
        {
          "data": {
            "application/vnd.jupyter.widget-view+json": {
              "model_id": "f557fae8a65a49cda9133cb55b5a2be0",
              "version_major": 2,
              "version_minor": 0
            },
            "text/plain": [
              "  0%|          | 0/2 [00:00<?, ?it/s]"
            ]
          },
          "metadata": {},
          "output_type": "display_data"
        },
        {
          "name": "stderr",
          "output_type": "stream",
          "text": [
            "WARNING:datasets.arrow_dataset:Loading cached processed dataset at /root/.cache/huggingface/datasets/imdb/plain_text/1.0.0/d613c88cf8fa3bab83b4ded3713f1f74830d1100e171db75bbddb80b3345c9c0/cache-c528b79a8b9b17a1.arrow\n",
            "WARNING:datasets.arrow_dataset:Loading cached processed dataset at /root/.cache/huggingface/datasets/imdb/plain_text/1.0.0/d613c88cf8fa3bab83b4ded3713f1f74830d1100e171db75bbddb80b3345c9c0/cache-faf0e3f36fee5436.arrow\n"
          ]
        }
      ],
      "source": [
        "import datasets\n",
        "from transformers import RobertaTokenizerFast\n",
        "\n",
        "train_data, test_data = datasets.load_dataset('imdb', split =['train', 'test'])\n",
        "\n",
        "tokenizer = RobertaTokenizerFast.from_pretrained('roberta-base', max_length = 512)\n",
        "\n",
        "def tokenization(batched_text):\n",
        "    return tokenizer(batched_text['text'], padding = True, truncation=True)\n",
        "\n",
        "train_data = train_data.map(tokenization, batched = True)\n",
        "test_data = test_data.map(tokenization, batched = True)"
      ]
    },
    {
      "cell_type": "code",
      "execution_count": null,
      "metadata": {
        "id": "D2la8E3bSB3j"
      },
      "outputs": [],
      "source": [
        "train_data.set_format('torch', columns=['input_ids', 'attention_mask', 'label'])\n",
        "test_data.set_format('torch', columns=['input_ids', 'attention_mask', 'label'])"
      ]
    },
    {
      "cell_type": "markdown",
      "metadata": {
        "id": "fvjnBrsqUWxc"
      },
      "source": [
        "# Training"
      ]
    },
    {
      "cell_type": "code",
      "execution_count": null,
      "metadata": {
        "id": "pEL6YJ2dSBxV"
      },
      "outputs": [],
      "source": [
        "from sklearn.metrics import accuracy_score, precision_recall_fscore_support\n",
        "\n",
        "def compute_metrics(pred, labels):\n",
        "    preds = pred.argmax(-1)\n",
        "    precision, recall, f1, _ = precision_recall_fscore_support(labels, preds, average='binary')\n",
        "    acc = accuracy_score(labels, preds)\n",
        "    return {\n",
        "        'f1': f1,\n",
        "        'recall': recall,\n",
        "        'accuracy': acc,\n",
        "        'precision': precision,\n",
        "    }"
      ]
    },
    {
      "cell_type": "code",
      "execution_count": null,
      "metadata": {
        "colab": {
          "base_uri": "https://localhost:8080/"
        },
        "id": "gEDd77kgSB0V",
        "outputId": "07c414a9-4034-4e78-ca81-e4870ea6e71a"
      },
      "outputs": [
        {
          "name": "stderr",
          "output_type": "stream",
          "text": [
            "Some weights of the model checkpoint at roberta-base were not used when initializing RobertaForSequenceClassification: ['lm_head.dense.bias', 'lm_head.bias', 'roberta.pooler.dense.weight', 'lm_head.layer_norm.weight', 'lm_head.layer_norm.bias', 'roberta.pooler.dense.bias', 'lm_head.decoder.weight', 'lm_head.dense.weight']\n",
            "- This IS expected if you are initializing RobertaForSequenceClassification from the checkpoint of a model trained on another task or with another architecture (e.g. initializing a BertForSequenceClassification model from a BertForPreTraining model).\n",
            "- This IS NOT expected if you are initializing RobertaForSequenceClassification from the checkpoint of a model that you expect to be exactly identical (initializing a BertForSequenceClassification model from a BertForSequenceClassification model).\n",
            "Some weights of RobertaForSequenceClassification were not initialized from the model checkpoint at roberta-base and are newly initialized: ['roberta.encoder.layer.6.attention.output.adapter_roberta_self_output.in_linier.bias', 'roberta.encoder.layer.6.attention.output.adapter_roberta_self_output.in_linier.weight', 'roberta.encoder.layer.3.output.adapter_roberta_output.in_linier.weight', 'roberta.encoder.layer.5.attention.output.adapter_roberta_self_output.out_linier.weight', 'roberta.encoder.layer.5.output.adapter_roberta_output.in_linier.weight', 'roberta.encoder.layer.6.output.adapter_roberta_output.out_linier.weight', 'roberta.encoder.layer.7.output.adapter_roberta_output.in_linier.bias', 'roberta.encoder.layer.6.attention.output.adapter_roberta_self_output.out_linier.weight', 'roberta.encoder.layer.9.attention.output.adapter_roberta_self_output.in_linier.weight', 'roberta.encoder.layer.11.attention.output.adapter_roberta_self_output.out_linier.bias', 'roberta.encoder.layer.4.output.adapter_roberta_output.in_linier.weight', 'roberta.encoder.layer.1.output.adapter_roberta_output.out_linier.weight', 'roberta.encoder.layer.7.output.adapter_roberta_output.out_linier.weight', 'roberta.encoder.layer.5.output.adapter_roberta_output.out_linier.weight', 'roberta.encoder.layer.4.output.adapter_roberta_output.in_linier.bias', 'roberta.encoder.layer.7.output.adapter_roberta_output.out_linier.bias', 'roberta.encoder.layer.2.output.adapter_roberta_output.in_linier.weight', 'roberta.encoder.layer.3.attention.output.adapter_roberta_self_output.in_linier.weight', 'roberta.encoder.layer.2.attention.output.adapter_roberta_self_output.in_linier.bias', 'classifier.dense.weight', 'roberta.encoder.layer.5.attention.output.adapter_roberta_self_output.in_linier.bias', 'roberta.encoder.layer.9.attention.output.adapter_roberta_self_output.in_linier.bias', 'roberta.encoder.layer.8.attention.output.adapter_roberta_self_output.out_linier.bias', 'roberta.encoder.layer.1.attention.output.adapter_roberta_self_output.in_linier.bias', 'roberta.encoder.layer.5.attention.output.adapter_roberta_self_output.out_linier.bias', 'roberta.encoder.layer.10.output.adapter_roberta_output.out_linier.bias', 'roberta.encoder.layer.3.attention.output.adapter_roberta_self_output.in_linier.bias', 'roberta.encoder.layer.9.attention.output.adapter_roberta_self_output.out_linier.weight', 'roberta.encoder.layer.10.output.adapter_roberta_output.out_linier.weight', 'roberta.encoder.layer.7.output.adapter_roberta_output.in_linier.weight', 'roberta.encoder.layer.3.output.adapter_roberta_output.out_linier.weight', 'roberta.encoder.layer.7.attention.output.adapter_roberta_self_output.in_linier.weight', 'roberta.encoder.layer.0.attention.output.adapter_roberta_self_output.in_linier.weight', 'roberta.encoder.layer.6.output.adapter_roberta_output.out_linier.bias', 'roberta.encoder.layer.8.output.adapter_roberta_output.out_linier.weight', 'roberta.encoder.layer.11.output.adapter_roberta_output.out_linier.bias', 'roberta.encoder.layer.8.attention.output.adapter_roberta_self_output.in_linier.bias', 'roberta.encoder.layer.4.attention.output.adapter_roberta_self_output.out_linier.bias', 'roberta.encoder.layer.6.attention.output.adapter_roberta_self_output.out_linier.bias', 'roberta.encoder.layer.8.output.adapter_roberta_output.in_linier.bias', 'roberta.encoder.layer.0.output.adapter_roberta_output.out_linier.bias', 'roberta.encoder.layer.4.attention.output.adapter_roberta_self_output.in_linier.bias', 'roberta.encoder.layer.7.attention.output.adapter_roberta_self_output.in_linier.bias', 'roberta.encoder.layer.10.attention.output.adapter_roberta_self_output.in_linier.bias', 'roberta.encoder.layer.11.output.adapter_roberta_output.in_linier.bias', 'roberta.encoder.layer.0.output.adapter_roberta_output.in_linier.bias', 'roberta.encoder.layer.6.output.adapter_roberta_output.in_linier.bias', 'roberta.encoder.layer.2.attention.output.adapter_roberta_self_output.in_linier.weight', 'roberta.encoder.layer.6.output.adapter_roberta_output.in_linier.weight', 'roberta.encoder.layer.0.attention.output.adapter_roberta_self_output.out_linier.weight', 'roberta.encoder.layer.4.output.adapter_roberta_output.out_linier.weight', 'roberta.encoder.layer.1.attention.output.adapter_roberta_self_output.in_linier.weight', 'roberta.encoder.layer.10.attention.output.adapter_roberta_self_output.in_linier.weight', 'roberta.encoder.layer.0.output.adapter_roberta_output.in_linier.weight', 'roberta.encoder.layer.11.attention.output.adapter_roberta_self_output.in_linier.bias', 'roberta.encoder.layer.1.attention.output.adapter_roberta_self_output.out_linier.bias', 'roberta.encoder.layer.2.attention.output.adapter_roberta_self_output.out_linier.bias', 'classifier.dense.bias', 'roberta.encoder.layer.7.attention.output.adapter_roberta_self_output.out_linier.bias', 'roberta.encoder.layer.3.attention.output.adapter_roberta_self_output.out_linier.weight', 'roberta.encoder.layer.11.output.adapter_roberta_output.out_linier.weight', 'roberta.encoder.layer.11.attention.output.adapter_roberta_self_output.in_linier.weight', 'roberta.encoder.layer.8.attention.output.adapter_roberta_self_output.in_linier.weight', 'roberta.encoder.layer.8.attention.output.adapter_roberta_self_output.out_linier.weight', 'roberta.encoder.layer.3.output.adapter_roberta_output.in_linier.bias', 'roberta.encoder.layer.9.attention.output.adapter_roberta_self_output.out_linier.bias', 'roberta.encoder.layer.0.output.adapter_roberta_output.out_linier.weight', 'roberta.encoder.layer.2.output.adapter_roberta_output.in_linier.bias', 'roberta.encoder.layer.5.attention.output.adapter_roberta_self_output.in_linier.weight', 'roberta.encoder.layer.10.output.adapter_roberta_output.in_linier.bias', 'roberta.encoder.layer.2.output.adapter_roberta_output.out_linier.bias', 'roberta.encoder.layer.0.attention.output.adapter_roberta_self_output.in_linier.bias', 'roberta.encoder.layer.7.attention.output.adapter_roberta_self_output.out_linier.weight', 'roberta.encoder.layer.10.output.adapter_roberta_output.in_linier.weight', 'roberta.encoder.layer.9.output.adapter_roberta_output.out_linier.weight', 'roberta.encoder.layer.4.attention.output.adapter_roberta_self_output.in_linier.weight', 'roberta.encoder.layer.11.output.adapter_roberta_output.in_linier.weight', 'roberta.encoder.layer.4.attention.output.adapter_roberta_self_output.out_linier.weight', 'roberta.encoder.layer.1.output.adapter_roberta_output.in_linier.weight', 'roberta.encoder.layer.4.output.adapter_roberta_output.out_linier.bias', 'roberta.encoder.layer.3.output.adapter_roberta_output.out_linier.bias', 'roberta.encoder.layer.1.attention.output.adapter_roberta_self_output.out_linier.weight', 'roberta.encoder.layer.9.output.adapter_roberta_output.in_linier.bias', 'roberta.encoder.layer.2.attention.output.adapter_roberta_self_output.out_linier.weight', 'roberta.encoder.layer.9.output.adapter_roberta_output.out_linier.bias', 'roberta.encoder.layer.10.attention.output.adapter_roberta_self_output.out_linier.weight', 'roberta.encoder.layer.8.output.adapter_roberta_output.out_linier.bias', 'roberta.encoder.layer.10.attention.output.adapter_roberta_self_output.out_linier.bias', 'roberta.encoder.layer.0.attention.output.adapter_roberta_self_output.out_linier.bias', 'roberta.encoder.layer.11.attention.output.adapter_roberta_self_output.out_linier.weight', 'roberta.encoder.layer.5.output.adapter_roberta_output.out_linier.bias', 'roberta.encoder.layer.1.output.adapter_roberta_output.out_linier.bias', 'roberta.encoder.layer.1.output.adapter_roberta_output.in_linier.bias', 'roberta.encoder.layer.3.attention.output.adapter_roberta_self_output.out_linier.bias', 'roberta.encoder.layer.8.output.adapter_roberta_output.in_linier.weight', 'roberta.encoder.layer.9.output.adapter_roberta_output.in_linier.weight', 'classifier.out_proj.bias', 'classifier.out_proj.weight', 'roberta.encoder.layer.2.output.adapter_roberta_output.out_linier.weight', 'roberta.encoder.layer.5.output.adapter_roberta_output.in_linier.bias']\n",
            "You should probably TRAIN this model on a down-stream task to be able to use it for predictions and inference.\n"
          ]
        }
      ],
      "source": [
        "from transformers import RobertaForSequenceClassification\n",
        "\n",
        "model = RobertaForSequenceClassification.from_pretrained('roberta-base')\n",
        "\n",
        "for param in model.roberta.parameters():\n",
        "    param.requires_grad = False"
      ]
    },
    {
      "cell_type": "code",
      "source": [
        "import torch\n",
        "from torch.utils.data import DataLoader\n",
        "from transformers import AdamW\n",
        "\n",
        "device = torch.device('cuda') if torch.cuda.is_available() else torch.device('cpu')\n",
        "\n",
        "model.to(device)\n",
        "model.train()\n",
        "\n",
        "for name, param in model.named_parameters():\n",
        "    if 'adapter' in name:\n",
        "      param.requires_grad = True\n",
        "\n",
        "train_loader = DataLoader(train_data, batch_size=8, shuffle=True)\n",
        "\n",
        "optim = AdamW(model.parameters(), lr=5e-5)\n",
        "\n",
        "for epoch in range(2):\n",
        "  print(f\"------------epoch={epoch}------------\")\n",
        "  total_loss = 0\n",
        "  for batch in train_loader:\n",
        "\n",
        "    optim.zero_grad()\n",
        "    input_ids = batch['input_ids'].to(device)\n",
        "    attention_mask = batch['attention_mask'].to(device)\n",
        "    labels = batch['label'].to(device)\n",
        "    outputs = model(input_ids, attention_mask=attention_mask, labels=labels)\n",
        "    loss = outputs[0]\n",
        "    total_loss += loss\n",
        "    loss.backward()\n",
        "    optim.step()\n",
        "    i += 1\n",
        "  print(f'END_LOSS = {total_loss / len(train_loader) * 4}')"
      ],
      "metadata": {
        "colab": {
          "base_uri": "https://localhost:8080/"
        },
        "id": "YZSHkiwPfZ7e",
        "outputId": "8e693be5-43ee-45b7-becd-edf1cc887f3e"
      },
      "execution_count": 1,
      "outputs": [
        {
          "output_type": "stream",
          "name": "stdout",
          "text": [
            "\n",
            "------------epoch=1------------\n",
            "END_LOSS = 0.8151084184646606\n",
            "------------epoch=2------------\n",
            "END_LOSS = 0.634392499923706\n",
            "\n"
          ]
        }
      ]
    },
    {
      "cell_type": "code",
      "execution_count": null,
      "metadata": {
        "colab": {
          "base_uri": "https://localhost:8080/"
        },
        "id": "XMT3I4NcSBL3",
        "outputId": "cf1d6137-50d5-4cdb-9edf-25252be04716"
      },
      "outputs": [
        {
          "name": "stdout",
          "output_type": "stream",
          "text": [
            "EVALUATE = {'f1': 0.9562445667922341, 'recall': 0.9576320371445154, 'accuracy': 0.9563078703703703, 'precision': 0.9548611111111112}\n"
          ]
        }
      ],
      "source": [
        "from torch.utils.data import DataLoader\n",
        "all_output = None\n",
        "all_label = None\n",
        "\n",
        "output_list = []\n",
        "label_list = []\n",
        "\n",
        "test_loader = DataLoader(test_data, batch_size=128, shuffle=True)\n",
        "device = torch.device('cuda') if torch.cuda.is_available() else torch.device('cpu')\n",
        "\n",
        "model.eval()\n",
        "model.to(device)\n",
        "batch_number = 0\n",
        "for batch in test_loader:\n",
        "  input_ids = batch['input_ids'].to(device)\n",
        "  attention_mask = batch['attention_mask'].to(device)\n",
        "  labels = batch['label'].to(device)\n",
        "  outputs = model(input_ids, attention_mask=attention_mask, labels=labels)\n",
        "  if all_output is not None:\n",
        "    all_output = torch.cat((all_output.cpu(), outputs['logits'].cpu())).cpu()\n",
        "    all_label = torch.cat((all_label.cpu(), labels.cpu())).cpu()\n",
        "    del(outputs)\n",
        "  else:\n",
        "    all_output = outputs[1].cpu()\n",
        "    all_label = labels.cpu()\n",
        "\n",
        "print(f'EVALUATE = {compute_metrics(all_output, all_label)}')"
      ]
    }
  ],
  "metadata": {
    "accelerator": "GPU",
    "colab": {
      "collapsed_sections": [
        "MpXOoCl4BR9r",
        "-ANKyOAEOh1i",
        "KzTucASNTeuh",
        "SIc1iBXuP5w0"
      ],
      "provenance": []
    },
    "gpuClass": "standard",
    "kernelspec": {
      "display_name": "Python 3",
      "name": "python3"
    },
    "language_info": {
      "name": "python"
    },
    "widgets": {
      "application/vnd.jupyter.widget-state+json": {
        "0135b2546ae74319ad8f27bb632f2568": {
          "model_module": "@jupyter-widgets/controls",
          "model_module_version": "1.5.0",
          "model_name": "HTMLModel",
          "state": {
            "_dom_classes": [],
            "_model_module": "@jupyter-widgets/controls",
            "_model_module_version": "1.5.0",
            "_model_name": "HTMLModel",
            "_view_count": null,
            "_view_module": "@jupyter-widgets/controls",
            "_view_module_version": "1.5.0",
            "_view_name": "HTMLView",
            "description": "",
            "description_tooltip": null,
            "layout": "IPY_MODEL_fbd62de49ca941f4be8884fbf52ff3c2",
            "placeholder": "​",
            "style": "IPY_MODEL_18b1ddfeb40b45f0ac6a0e7c02f6cb28",
            "value": "100%"
          }
        },
        "18b1ddfeb40b45f0ac6a0e7c02f6cb28": {
          "model_module": "@jupyter-widgets/controls",
          "model_module_version": "1.5.0",
          "model_name": "DescriptionStyleModel",
          "state": {
            "_model_module": "@jupyter-widgets/controls",
            "_model_module_version": "1.5.0",
            "_model_name": "DescriptionStyleModel",
            "_view_count": null,
            "_view_module": "@jupyter-widgets/base",
            "_view_module_version": "1.2.0",
            "_view_name": "StyleView",
            "description_width": ""
          }
        },
        "8542c5053e114a1c8df0067c47771acf": {
          "model_module": "@jupyter-widgets/base",
          "model_module_version": "1.2.0",
          "model_name": "LayoutModel",
          "state": {
            "_model_module": "@jupyter-widgets/base",
            "_model_module_version": "1.2.0",
            "_model_name": "LayoutModel",
            "_view_count": null,
            "_view_module": "@jupyter-widgets/base",
            "_view_module_version": "1.2.0",
            "_view_name": "LayoutView",
            "align_content": null,
            "align_items": null,
            "align_self": null,
            "border": null,
            "bottom": null,
            "display": null,
            "flex": null,
            "flex_flow": null,
            "grid_area": null,
            "grid_auto_columns": null,
            "grid_auto_flow": null,
            "grid_auto_rows": null,
            "grid_column": null,
            "grid_gap": null,
            "grid_row": null,
            "grid_template_areas": null,
            "grid_template_columns": null,
            "grid_template_rows": null,
            "height": null,
            "justify_content": null,
            "justify_items": null,
            "left": null,
            "margin": null,
            "max_height": null,
            "max_width": null,
            "min_height": null,
            "min_width": null,
            "object_fit": null,
            "object_position": null,
            "order": null,
            "overflow": null,
            "overflow_x": null,
            "overflow_y": null,
            "padding": null,
            "right": null,
            "top": null,
            "visibility": null,
            "width": null
          }
        },
        "a0583ed983274bd6ad8a400cd2ca3771": {
          "model_module": "@jupyter-widgets/base",
          "model_module_version": "1.2.0",
          "model_name": "LayoutModel",
          "state": {
            "_model_module": "@jupyter-widgets/base",
            "_model_module_version": "1.2.0",
            "_model_name": "LayoutModel",
            "_view_count": null,
            "_view_module": "@jupyter-widgets/base",
            "_view_module_version": "1.2.0",
            "_view_name": "LayoutView",
            "align_content": null,
            "align_items": null,
            "align_self": null,
            "border": null,
            "bottom": null,
            "display": null,
            "flex": null,
            "flex_flow": null,
            "grid_area": null,
            "grid_auto_columns": null,
            "grid_auto_flow": null,
            "grid_auto_rows": null,
            "grid_column": null,
            "grid_gap": null,
            "grid_row": null,
            "grid_template_areas": null,
            "grid_template_columns": null,
            "grid_template_rows": null,
            "height": null,
            "justify_content": null,
            "justify_items": null,
            "left": null,
            "margin": null,
            "max_height": null,
            "max_width": null,
            "min_height": null,
            "min_width": null,
            "object_fit": null,
            "object_position": null,
            "order": null,
            "overflow": null,
            "overflow_x": null,
            "overflow_y": null,
            "padding": null,
            "right": null,
            "top": null,
            "visibility": null,
            "width": null
          }
        },
        "ac47e8efb12c489795b5888b2597dfea": {
          "model_module": "@jupyter-widgets/base",
          "model_module_version": "1.2.0",
          "model_name": "LayoutModel",
          "state": {
            "_model_module": "@jupyter-widgets/base",
            "_model_module_version": "1.2.0",
            "_model_name": "LayoutModel",
            "_view_count": null,
            "_view_module": "@jupyter-widgets/base",
            "_view_module_version": "1.2.0",
            "_view_name": "LayoutView",
            "align_content": null,
            "align_items": null,
            "align_self": null,
            "border": null,
            "bottom": null,
            "display": null,
            "flex": null,
            "flex_flow": null,
            "grid_area": null,
            "grid_auto_columns": null,
            "grid_auto_flow": null,
            "grid_auto_rows": null,
            "grid_column": null,
            "grid_gap": null,
            "grid_row": null,
            "grid_template_areas": null,
            "grid_template_columns": null,
            "grid_template_rows": null,
            "height": null,
            "justify_content": null,
            "justify_items": null,
            "left": null,
            "margin": null,
            "max_height": null,
            "max_width": null,
            "min_height": null,
            "min_width": null,
            "object_fit": null,
            "object_position": null,
            "order": null,
            "overflow": null,
            "overflow_x": null,
            "overflow_y": null,
            "padding": null,
            "right": null,
            "top": null,
            "visibility": null,
            "width": null
          }
        },
        "b5667c572b4a46fa814f8073a38d9029": {
          "model_module": "@jupyter-widgets/controls",
          "model_module_version": "1.5.0",
          "model_name": "DescriptionStyleModel",
          "state": {
            "_model_module": "@jupyter-widgets/controls",
            "_model_module_version": "1.5.0",
            "_model_name": "DescriptionStyleModel",
            "_view_count": null,
            "_view_module": "@jupyter-widgets/base",
            "_view_module_version": "1.2.0",
            "_view_name": "StyleView",
            "description_width": ""
          }
        },
        "f4fbeab89ade4dfeb29fc9d07e06fd44": {
          "model_module": "@jupyter-widgets/controls",
          "model_module_version": "1.5.0",
          "model_name": "HTMLModel",
          "state": {
            "_dom_classes": [],
            "_model_module": "@jupyter-widgets/controls",
            "_model_module_version": "1.5.0",
            "_model_name": "HTMLModel",
            "_view_count": null,
            "_view_module": "@jupyter-widgets/controls",
            "_view_module_version": "1.5.0",
            "_view_name": "HTMLView",
            "description": "",
            "description_tooltip": null,
            "layout": "IPY_MODEL_a0583ed983274bd6ad8a400cd2ca3771",
            "placeholder": "​",
            "style": "IPY_MODEL_b5667c572b4a46fa814f8073a38d9029",
            "value": " 2/2 [00:00&lt;00:00, 60.58it/s]"
          }
        },
        "f557fae8a65a49cda9133cb55b5a2be0": {
          "model_module": "@jupyter-widgets/controls",
          "model_module_version": "1.5.0",
          "model_name": "HBoxModel",
          "state": {
            "_dom_classes": [],
            "_model_module": "@jupyter-widgets/controls",
            "_model_module_version": "1.5.0",
            "_model_name": "HBoxModel",
            "_view_count": null,
            "_view_module": "@jupyter-widgets/controls",
            "_view_module_version": "1.5.0",
            "_view_name": "HBoxView",
            "box_style": "",
            "children": [
              "IPY_MODEL_0135b2546ae74319ad8f27bb632f2568",
              "IPY_MODEL_f7b03d6aaff445f38b57f93b86fb088c",
              "IPY_MODEL_f4fbeab89ade4dfeb29fc9d07e06fd44"
            ],
            "layout": "IPY_MODEL_ac47e8efb12c489795b5888b2597dfea"
          }
        },
        "f7b03d6aaff445f38b57f93b86fb088c": {
          "model_module": "@jupyter-widgets/controls",
          "model_module_version": "1.5.0",
          "model_name": "FloatProgressModel",
          "state": {
            "_dom_classes": [],
            "_model_module": "@jupyter-widgets/controls",
            "_model_module_version": "1.5.0",
            "_model_name": "FloatProgressModel",
            "_view_count": null,
            "_view_module": "@jupyter-widgets/controls",
            "_view_module_version": "1.5.0",
            "_view_name": "ProgressView",
            "bar_style": "success",
            "description": "",
            "description_tooltip": null,
            "layout": "IPY_MODEL_8542c5053e114a1c8df0067c47771acf",
            "max": 2,
            "min": 0,
            "orientation": "horizontal",
            "style": "IPY_MODEL_fa96125639f7416bacd3c9cd5e542c20",
            "value": 2
          }
        },
        "fa96125639f7416bacd3c9cd5e542c20": {
          "model_module": "@jupyter-widgets/controls",
          "model_module_version": "1.5.0",
          "model_name": "ProgressStyleModel",
          "state": {
            "_model_module": "@jupyter-widgets/controls",
            "_model_module_version": "1.5.0",
            "_model_name": "ProgressStyleModel",
            "_view_count": null,
            "_view_module": "@jupyter-widgets/base",
            "_view_module_version": "1.2.0",
            "_view_name": "StyleView",
            "bar_color": null,
            "description_width": ""
          }
        },
        "fbd62de49ca941f4be8884fbf52ff3c2": {
          "model_module": "@jupyter-widgets/base",
          "model_module_version": "1.2.0",
          "model_name": "LayoutModel",
          "state": {
            "_model_module": "@jupyter-widgets/base",
            "_model_module_version": "1.2.0",
            "_model_name": "LayoutModel",
            "_view_count": null,
            "_view_module": "@jupyter-widgets/base",
            "_view_module_version": "1.2.0",
            "_view_name": "LayoutView",
            "align_content": null,
            "align_items": null,
            "align_self": null,
            "border": null,
            "bottom": null,
            "display": null,
            "flex": null,
            "flex_flow": null,
            "grid_area": null,
            "grid_auto_columns": null,
            "grid_auto_flow": null,
            "grid_auto_rows": null,
            "grid_column": null,
            "grid_gap": null,
            "grid_row": null,
            "grid_template_areas": null,
            "grid_template_columns": null,
            "grid_template_rows": null,
            "height": null,
            "justify_content": null,
            "justify_items": null,
            "left": null,
            "margin": null,
            "max_height": null,
            "max_width": null,
            "min_height": null,
            "min_width": null,
            "object_fit": null,
            "object_position": null,
            "order": null,
            "overflow": null,
            "overflow_x": null,
            "overflow_y": null,
            "padding": null,
            "right": null,
            "top": null,
            "visibility": null,
            "width": null
          }
        }
      }
    }
  },
  "nbformat": 4,
  "nbformat_minor": 0
}